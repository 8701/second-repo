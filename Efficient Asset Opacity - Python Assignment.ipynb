{
 "cells": [
  {
   "cell_type": "markdown",
   "metadata": {},
   "source": [
    "# Efficient Asset Opacity\\n\n",
    "*Brief Description about work and/or assignment*"
   ]
  },
  {
   "cell_type": "markdown",
   "metadata": {},
   "source": [
    "Group Members:\\n\n",
    "\\n\n",
    "* Ana Sofia Pessoa (211111)\\n\n",
    "* Ricardo Gabriel  (656603)\\n\n",
    "\\n\n",
    "January 30, 2017\\n\n",
    "\\n\n",
    "The corresponding repository can be found [here](https://github.com/?????)."
   ]
  },
  {
   "cell_type": "markdown",
   "metadata": {},
   "source": [
    "## Abstract\\n\n",
    "While advanced economy financial markets deepened over the last number of decades, the degree of financial opaqueness in such markets persistently rose. This work is based on a paper, by Dr Burak Uras and Prof. Dr Wolf Wagner, which argues that opacity could be a desirable financial-market property for the aggregate allocation efficiency. The authors created a 3-period model where at the beginning of the time horizon a distribution of agents decide on the fraction of cash to be invested in illiquid stochastic assets and the fraction of liquid cash to be carried over. This assignment aims to discover how the equilibrium amount of cash that an agent decides to carry forward behaves under opacity and transparency and how these two equilibriums can be compared.  RESULTS"
   ]
  },
  {
   "cell_type": "markdown",
   "metadata": {},
   "source": [
    "## Research Questions\\n\n",
    "Solving for the competitive equilibrium under opacity, where there is no arbitrage possibility between asset origination and cash holding, how does eta behave and how can we compare the equilibrium eta with opacity against the equilibrium eta with transparency?"
   ]
  },
  {
   "cell_type": "markdown",
   "metadata": {},
   "source": [
    "## Motivation\\n\n",
    "asd"
   ]
  },
  {
   "cell_type": "markdown",
   "metadata": {},
   "source": [
    "# 1. Introduction\\n\n",
    "The model proposed by Dr Burak Uras and Prof. Dr Wolf Wagner argues that opacity could be a desirable financial-market property for the aggregate allocation efficiency. The model has the characteristic features of a standard 3-period cash-in-the-market pricing framework, where there is a continuum of risk-neutral agents with one unit measure. At date-0, each person receives one unit of physical endowment - cash. At beginning of date-1, agents receive a random liquidity demand to consume (which is private information) with a probability of ½. Agents who are hit by the liquidity shock value only consumption in date-1 (impatient agents), while the remaining agents value only consumption in date-2 (patient agents).\\n\n",
    "Thus, as of date-0 the expected lifetime utility of any agent is given by:\\n\n",
    "\\n\n",
    "$E[U]=1/2*(c_1+c_2)$\\n\n",
    "\\n\n",
    "There is a continuum of assets with one unit measure available for investment. Each agent can invest any fraction of his cash holding on date-0 into a single (agent-specific) asset among all the assets available in the economy. This assumption implies that originators hold undiversified asset portfolios. Once an asset is chosen by an agent for investment, that particular asset cannot be used for investment purposes by any other agent.\\n\n",
    "For each unit of cash invested on date-0, the agent-specific asset pays R on date-2 with probability $q$. With probability $1-q$ the payoff is zero. Realizations of productivity shocks are idiosyncratic across agents and the expected return on the investment is $qR$, with $qR>1$. The assets that pay out on date-2 will be called high quality assets and the non-paying assets will be called low quality assets. We assume that the scrap value of all assets on date-1 is zero.\\n\n",
    "\\n\n",
    "**Asset Opacity:** At the beginning of date-1, information about the date-2 idiosyncratic state of the asset arrives. The general equilibrium implications of two specifications of asset information structure are investigated:\\n\n",
    "\t(i) The case with opaque assets, where the information concerning the asset quality arrives privately only to the originators of assets; and,\\n\n",
    "    (ii) The full information (transparent assets) case, where the asset quality information concerning all invested assets arrive publicly to all agents in the economy.\\n\n",
    "\\n\n",
    "**Let $η$ denote the amount of cash, which the agent decides to carry forward to date-1.**\\n\n",
    "The autarky of this economy is socially inefficient because a fraction of the invested assets which eventually might payoff are not traded away from impatient asset originators to patient agents - who value consuming on date-2 - after the arrival of liquidity shocks. A social planner, who manages the aggregate portfolio in the economy would utilize all paying assets to generate consumption on date-2 for patient consumers. Therefore, there is room for markets to improve the aggregate efficiency under autarky.\n"
   ]
  }
 ],
 "metadata": {
  "kernelspec": {
   "display_name": "Python [default]",
   "language": "python",
   "name": "python2"
  },
  "language_info": {
   "codemirror_mode": {
    "name": "ipython",
    "version": 2
   },
   "file_extension": ".py",
   "mimetype": "text/x-python",
   "name": "python",
   "nbconvert_exporter": "python",
   "pygments_lexer": "ipython2",
   "version": "2.7.12"
  }
 },
 "nbformat": 4,
 "nbformat_minor": 1
}
